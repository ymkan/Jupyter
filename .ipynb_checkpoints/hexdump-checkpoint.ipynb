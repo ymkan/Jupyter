{
 "cells": [
  {
   "cell_type": "code",
   "execution_count": 1,
   "metadata": {},
   "outputs": [],
   "source": [
    "def hexdump(b, step=16, decimal=False):\n",
    "    for i in range(0, len(b), step):             # i =0,16,32,48,..,len(b)\n",
    "        sub = b[i: i + step]                     # extract substring from b[i to i+16]\n",
    "        output = '%08x ' % i                     # display i, index as a 8 digit hexdecimal\n",
    "        output += '%08d ' % i if decimal else ''\n",
    "        output += ' '.join(['%02x' % c for c in sub]) # display each char of substring as a 2 digit hexdecimal \n",
    "        output += sub.decode('utf-8')            # display substring in original form\n",
    "        print(output)"
   ]
  },
  {
   "cell_type": "code",
   "execution_count": 2,
   "metadata": {},
   "outputs": [
    {
     "name": "stdout",
     "output_type": "stream",
     "text": [
      "00000000 48 65 6c 6c 6f 20 57 6f 72 6c 64 21 0a 48 65 6cHello World!\n",
      "Hel\n",
      "00000010 6c 6f 2c 20 50 79 74 68 6f 6e 21lo, Python!\n"
     ]
    }
   ],
   "source": [
    "hexdump(b'Hello World!\\nHello, Python!')"
   ]
  },
  {
   "cell_type": "code",
   "execution_count": 3,
   "metadata": {},
   "outputs": [],
   "source": [
    "# Modifications\n",
    "def hexdump(b, step=16, decimal=False):\n",
    "    for i in range(0, len(b), step):             # i =0,16,32,48,..,len(b)\n",
    "        sub = b[i: i + step]                     # extract substring from b[i to i+16]\n",
    "        output = '%08x ' % i                     # display i, index as a 8 digit hexdecimal\n",
    "        output += '%08d ' % i if decimal else ''\n",
    "        output += ' '.join(['%02x' % c for c in sub]) # display each char of substring as a 2 digit hexdecimal \n",
    "        # fill empty spaces at the end\n",
    "        output += '   ' * (step - len(sub))\n",
    "        output += ' '\n",
    "        # display substring in original form but not those not displayable\n",
    "        output += ''.join([chr(c) if 0x20 <= c < 0x7F else '.' for c in sub])  \n",
    "        print(output)"
   ]
  },
  {
   "cell_type": "code",
   "execution_count": 4,
   "metadata": {},
   "outputs": [
    {
     "name": "stdout",
     "output_type": "stream",
     "text": [
      "00000000 48 65 6c 6c 6f 20 57 6f 72 6c 64 21 0a 48 65 6c Hello World!.Hel\n",
      "00000010 6c 6f 2c 20 50 79 74 68 6f 6e 21           lo, Python!\n"
     ]
    }
   ],
   "source": [
    "hexdump(b'Hello World!\\nHello, Python!')"
   ]
  },
  {
   "cell_type": "code",
   "execution_count": null,
   "metadata": {},
   "outputs": [],
   "source": []
  }
 ],
 "metadata": {
  "kernelspec": {
   "display_name": "Python 3",
   "language": "python",
   "name": "python3"
  },
  "language_info": {
   "codemirror_mode": {
    "name": "ipython",
    "version": 3
   },
   "file_extension": ".py",
   "mimetype": "text/x-python",
   "name": "python",
   "nbconvert_exporter": "python",
   "pygments_lexer": "ipython3",
   "version": "3.7.1"
  }
 },
 "nbformat": 4,
 "nbformat_minor": 2
}
