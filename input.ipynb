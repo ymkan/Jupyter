{
 "cells": [
  {
   "cell_type": "code",
   "execution_count": 1,
   "metadata": {},
   "outputs": [
    {
     "name": "stdout",
     "output_type": "stream",
     "text": [
      "Read an integer from terminal: 12\n",
      "12\n"
     ]
    }
   ],
   "source": [
    "# terminal input\n",
    "buf = input('Read an integer from terminal: ')\n",
    "int_a = int(buf)\n",
    "type(int_a)\n",
    "print(int_a)"
   ]
  },
  {
   "cell_type": "code",
   "execution_count": 2,
   "metadata": {},
   "outputs": [
    {
     "name": "stdout",
     "output_type": "stream",
     "text": [
      "This is line 1.\n",
      "This is second line.\n",
      "This is line 3.\n"
     ]
    }
   ],
   "source": [
    "# Read line from text file\n",
    "with open('textfile.txt', 'r', encoding='utf8') as f:\n",
    "    whole_file = f.read()\n",
    "    print(whole_file)"
   ]
  },
  {
   "cell_type": "code",
   "execution_count": 4,
   "metadata": {},
   "outputs": [],
   "source": [
    "# Read data from csv file\n",
    "import csv\n",
    "\n",
    "with open('data1.csv', 'r', encoding='utf8') as f:\n",
    "    dat = [k for k in csv.reader(f)] # use list comprehension\n",
    "    \n",
    "# Write data to csv file\n",
    "with open('out.csv', 'w', newline='') as f:\n",
    "    writer = csv.writer(f)\n",
    "    writer.writerows(dat)"
   ]
  },
  {
   "cell_type": "code",
   "execution_count": null,
   "metadata": {},
   "outputs": [],
   "source": []
  },
  {
   "cell_type": "code",
   "execution_count": null,
   "metadata": {},
   "outputs": [],
   "source": []
  }
 ],
 "metadata": {
  "kernelspec": {
   "display_name": "Python 3",
   "language": "python",
   "name": "python3"
  },
  "language_info": {
   "codemirror_mode": {
    "name": "ipython",
    "version": 3
   },
   "file_extension": ".py",
   "mimetype": "text/x-python",
   "name": "python",
   "nbconvert_exporter": "python",
   "pygments_lexer": "ipython3",
   "version": "3.7.1"
  }
 },
 "nbformat": 4,
 "nbformat_minor": 2
}
