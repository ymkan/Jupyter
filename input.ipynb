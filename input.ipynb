{
 "cells": [
  {
   "cell_type": "code",
   "execution_count": 1,
   "metadata": {},
   "outputs": [
    {
     "name": "stdout",
     "output_type": "stream",
     "text": [
      "Read an integer from terminal: 12\n",
      "12\n"
     ]
    }
   ],
   "source": [
    "# terminal input\n",
    "buf = input('Read an integer from terminal: ')\n",
    "int_a = int(buf)\n",
    "type(int_a)\n",
    "print(int_a)"
   ]
  },
  {
   "cell_type": "code",
   "execution_count": 2,
   "metadata": {},
   "outputs": [
    {
     "name": "stdout",
     "output_type": "stream",
     "text": [
      "This is line 1.\n",
      "This is second line.\n",
      "This is line 3.\n"
     ]
    }
   ],
   "source": [
    "# Read line from text file\n",
    "with open('textfile.txt', 'r', encoding='utf8') as f:\n",
    "    whole_file = f.read()\n",
    "    print(whole_file)"
   ]
  },
  {
   "cell_type": "code",
   "execution_count": 4,
   "metadata": {},
   "outputs": [],
   "source": [
    "# Read data from csv file\n",
    "import csv\n",
    "\n",
    "with open('data1.csv', 'r', encoding='utf8') as f:\n",
    "    dat = [k for k in csv.reader(f)] # use list comprehension\n",
    "    \n",
    "# Write data to csv file\n",
    "with open('out.csv', 'w', newline='') as f:\n",
    "    writer = csv.writer(f)\n",
    "    writer.writerows(dat)"
   ]
  },
  {
   "cell_type": "code",
   "execution_count": 1,
   "metadata": {},
   "outputs": [],
   "source": [
    "# NumPy read/write CSV\n",
    "import numpy as np\n",
    "import csv\n",
    "\n",
    "# Read from CSV file\n",
    "dat = np.loadtxt('data1.csv', delimiter=',', skiprows=1, dtype=float)\n",
    "\n",
    "# Write data into CSV file, cannot process Chinese\n",
    "np.savetxt('data1_saved.csv', dat, fmt='%.1f,%.8f,%d', header='time,vel,alt', comments=' ')\n",
    "\n",
    "# Write data into CSV file, can process Chinese\n",
    "with open('out.csv', 'w', newline='', encoding='utf-8') as f:\n",
    "    f.write('time, speed, height\\n')\n",
    "    writer = csv.writer(f)\n",
    "    writer.writerows(dat)"
   ]
  },
  {
   "cell_type": "code",
   "execution_count": 2,
   "metadata": {},
   "outputs": [
    {
     "name": "stdout",
     "output_type": "stream",
     "text": [
      "[1 2 3]\n",
      "[[1 2]\n",
      " [3 4]]\n"
     ]
    }
   ],
   "source": [
    "# Use NumPy npy and npz format\n",
    "import numpy as np\n",
    "\n",
    "# store a nparry into npy\n",
    "a = np.array([1, 2, 3])\n",
    "np.save('foo', a)\n",
    "\n",
    "# restore nparray from npy\n",
    "a2 = np.load('foo.npy')\n",
    "\n",
    "# store a nparray into npz\n",
    "b = np.array([[1, 2], [3, 4]])\n",
    "np.savez('foo.npz', a=a, b2=b)\n",
    "\n",
    "with np.load('foo.npz') as data:\n",
    "    a3 = data['a']   # restore 'a' only\n",
    "    b3 = data['b2']\n",
    "    \n",
    "print (a3)\n",
    "print (b3)"
   ]
  },
  {
   "cell_type": "code",
   "execution_count": 3,
   "metadata": {},
   "outputs": [
    {
     "name": "stdout",
     "output_type": "stream",
     "text": [
      "               # Test info  \n",
      "0   time;status;height;speed\n",
      "1              0;search;;125\n",
      "2   0.1;search;1012.5; 128.3\n",
      "3  0.2;lock;1035.3; 130.5987\n",
      "4  0.3;lock;1068.365; 135.45\n",
      "5       0.4;lock;1090.2; NaN\n"
     ]
    }
   ],
   "source": [
    "import pandas as pd\n",
    "\n",
    "dat = pd.read_csv('veldat.csv')   # default encoding is utf-8\n",
    "\n",
    "print(dat)"
   ]
  },
  {
   "cell_type": "code",
   "execution_count": null,
   "metadata": {},
   "outputs": [],
   "source": []
  }
 ],
 "metadata": {
  "kernelspec": {
   "display_name": "Python 3",
   "language": "python",
   "name": "python3"
  },
  "language_info": {
   "codemirror_mode": {
    "name": "ipython",
    "version": 3
   },
   "file_extension": ".py",
   "mimetype": "text/x-python",
   "name": "python",
   "nbconvert_exporter": "python",
   "pygments_lexer": "ipython3",
   "version": "3.7.1"
  }
 },
 "nbformat": 4,
 "nbformat_minor": 2
}
